{
 "cells": [
  {
   "cell_type": "code",
   "execution_count": 6,
   "metadata": {},
   "outputs": [],
   "source": [
    "import numpy as np"
   ]
  },
  {
   "cell_type": "code",
   "execution_count": 7,
   "metadata": {},
   "outputs": [],
   "source": [
    "english_score = np.array([55,89,76,65,48,70])\n",
    "math_score = np.array([60,85,60,68,np.nan,60])\n",
    "chinese_score = np.array([65,90,82,72,66,77])"
   ]
  },
  {
   "cell_type": "code",
   "execution_count": null,
   "metadata": {},
   "outputs": [],
   "source": [
    "#上 3 列共六位同學的英文、數學、國文成績，\n",
    "#請計算各科成績平均、最大值、最小值、標準差，\n",
    "#其中數學缺一筆資料可忽略？\n",
    "#第五位同學補考數學後成績為 55，\n",
    "#請計算補考後數學成績平均、最大值、最小值、標準差？\n",
    "#用補考後資料找出與國文成績相關係數最高的學科？"
   ]
  },
  {
   "cell_type": "code",
   "execution_count": 38,
   "metadata": {},
   "outputs": [
    {
     "name": "stdout",
     "output_type": "stream",
     "text": [
      "1. 請計算各科成績平均、最大值、最小值、標準差:\n",
      "英文/數學/國文科平均值: 67.16666666666667 / 66.6 / 75.33333333333333\n",
      "英文/數學/國文科最大值: 89 / 85.0 / 90\n",
      "英文/數學/國文科最小值: 48 / 60.0 / 65\n",
      "英文/數學/國文科標準差: 13.433995020924426 / 9.707728879609279 / 8.825468196582484\n"
     ]
    }
   ],
   "source": [
    "print(\"1. 請計算各科成績平均、最大值、最小值、標準差:\")\n",
    "print(\"英文/數學/國文科平均值:\",np.nanmean(english_score),\"/\",np.nanmean(math_score),\"/\",np.nanmean(chinese_score))\n",
    "print(\"英文/數學/國文科最大值:\",np.nanmax(english_score),\"/\",np.nanmax(math_score),\"/\",np.nanmax(chinese_score))\n",
    "print(\"英文/數學/國文科最小值:\",np.nanmin(english_score),\"/\",np.nanmin(math_score),\"/\",np.nanmin(chinese_score))\n",
    "print(\"英文/數學/國文科標準差:\",np.nanstd(english_score),\"/\",np.nanstd(math_score),\"/\",np.nanstd(chinese_score))"
   ]
  },
  {
   "cell_type": "code",
   "execution_count": 39,
   "metadata": {},
   "outputs": [
    {
     "name": "stdout",
     "output_type": "stream",
     "text": [
      "2. 其中數學缺一筆資料可忽略？\n",
      "可以\n"
     ]
    }
   ],
   "source": [
    "print(\"2. 其中數學缺一筆資料可忽略？\")\n",
    "print(\"可以\")"
   ]
  },
  {
   "cell_type": "code",
   "execution_count": 40,
   "metadata": {},
   "outputs": [],
   "source": [
    "math_score = np.array([60,85,60,68,55,60])"
   ]
  },
  {
   "cell_type": "code",
   "execution_count": 42,
   "metadata": {},
   "outputs": [
    {
     "name": "stdout",
     "output_type": "stream",
     "text": [
      "3. 計算補考後數學成績平均、最大值、最小值、標準差:\n",
      "英文/數學/國文科平均值: 67.16666666666667 / 64.66666666666667 / 75.33333333333333\n",
      "英文/數學/國文科最大值: 89 / 85 / 90\n",
      "英文/數學/國文科最小值: 48 / 55 / 65\n",
      "英文/數學/國文科標準差: 13.433995020924426 / 9.860132971832694 / 8.825468196582484\n"
     ]
    }
   ],
   "source": [
    "print(\"3. 計算補考後數學成績平均、最大值、最小值、標準差:\")\n",
    "print(\"英文/數學/國文科平均值:\",np.nanmean(english_score),\"/\",np.nanmean(math_score),\"/\",np.nanmean(chinese_score))\n",
    "print(\"英文/數學/國文科最大值:\",np.nanmax(english_score),\"/\",np.nanmax(math_score),\"/\",np.nanmax(chinese_score))\n",
    "print(\"英文/數學/國文科最小值:\",np.nanmin(english_score),\"/\",np.nanmin(math_score),\"/\",np.nanmin(chinese_score))\n",
    "print(\"英文/數學/國文科標準差:\",np.nanstd(english_score),\"/\",np.nanstd(math_score),\"/\",np.nanstd(chinese_score))"
   ]
  },
  {
   "cell_type": "code",
   "execution_count": 51,
   "metadata": {},
   "outputs": [
    {
     "name": "stdout",
     "output_type": "stream",
     "text": [
      "4. 用補考後資料找出與國文成績相關係數最高的學科？\n",
      "英文成績跟國文成績的相關係數較高\n"
     ]
    }
   ],
   "source": [
    "print(\"4. 用補考後資料找出與國文成績相關係數最高的學科？\")\n",
    "a=np.correlate(english_score,chinese_score, mode='valid')\n",
    "b=np.correlate(math_score,chinese_score, mode='valid')\n",
    "if a>b:\n",
    "    print(\"英文成績跟國文成績的相關係數較高\")\n",
    "elif a==b:\n",
    "    print(\"英文、數學成績跟國文成績的相關係數皆一樣\")\n",
    "else:\n",
    "    print(\"數學成績跟國文成績的相關係數較高\")"
   ]
  },
  {
   "cell_type": "code",
   "execution_count": null,
   "metadata": {},
   "outputs": [],
   "source": []
  }
 ],
 "metadata": {
  "kernelspec": {
   "display_name": "Python 3",
   "language": "python",
   "name": "python3"
  },
  "language_info": {
   "codemirror_mode": {
    "name": "ipython",
    "version": 3
   },
   "file_extension": ".py",
   "mimetype": "text/x-python",
   "name": "python",
   "nbconvert_exporter": "python",
   "pygments_lexer": "ipython3",
   "version": "3.8.5"
  }
 },
 "nbformat": 4,
 "nbformat_minor": 4
}
